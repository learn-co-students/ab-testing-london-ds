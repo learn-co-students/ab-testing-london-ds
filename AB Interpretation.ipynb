{
 "cells": [
  {
   "cell_type": "markdown",
   "metadata": {},
   "source": [
    "# Interpreting an AB Test"
   ]
  },
  {
   "cell_type": "code",
   "execution_count": 1,
   "metadata": {},
   "outputs": [],
   "source": [
    "# estimate sample size via power analysis\n",
    "import statsmodels as sm\n",
    "from statsmodels.stats.power import TTestIndPower\n",
    "from statsmodels.stats.weightstats import ttest_ind\n",
    "import pandas as pd\n",
    "\n",
    "\n",
    "\n",
    "def cohen_d(mean_1, mean_2, pooled_sd):\n",
    "    diff = (mean_1 - mean_2)\n",
    "    cohen_d = diff/pooled_sd\n",
    "    return(cohen_d)\n",
    "    \n"
   ]
  },
  {
   "cell_type": "markdown",
   "metadata": {},
   "source": [
    "\n",
    "\n",
    "\n",
    "* Calculate Cohen's D for increasing click rate from 3% to 8%.\n",
    "* Assume the pooled standard deviation to be 14\n",
    "\n",
    "`Mean 1 - Mean 2 / pooled SD`"
   ]
  },
  {
   "cell_type": "code",
   "execution_count": 5,
   "metadata": {},
   "outputs": [
    {
     "data": {
      "text/plain": [
       "-0.29411764705882354"
      ]
     },
     "execution_count": 5,
     "metadata": {},
     "output_type": "execute_result"
    }
   ],
   "source": [
    "cohen_d(5,10,17)"
   ]
  },
  {
   "cell_type": "markdown",
   "metadata": {},
   "source": [
    "According to the rule of thumb given by Cohen, how big of an effect size is this?\n",
    "\n",
    "\n",
    "Given this effect size, how many samples will we need to collect in order to not make a type II error?"
   ]
  },
  {
   "cell_type": "code",
   "execution_count": 11,
   "metadata": {},
   "outputs": [
    {
     "name": "stdout",
     "output_type": "stream",
     "text": [
      "Sample Size: 250.843\n"
     ]
    }
   ],
   "source": [
    "# Set Parameters \n",
    "\n",
    "effect = .29\n",
    "alpha = .05\n",
    "power = .9\n",
    "\n",
    "# Perform Power Analysis\n",
    "analysis = TTestIndPower()\n",
    "result = analysis.solve_power(effect, power=power, nobs1=None, ratio=1.0, alpha=alpha)\n",
    "print('Sample Size: %.3f' % result)"
   ]
  },
  {
   "cell_type": "code",
   "execution_count": 17,
   "metadata": {},
   "outputs": [
    {
     "name": "stdout",
     "output_type": "stream",
     "text": [
      "The Baseline Average was:  5.7554260891793865\n",
      "The Experimental Average was:  8.607012143722065\n"
     ]
    },
    {
     "data": {
      "text/plain": [
       "-1.5508005846113697"
      ]
     },
     "execution_count": 17,
     "metadata": {},
     "output_type": "execute_result"
    }
   ],
   "source": [
    "import pandas as pd\n",
    "\n",
    "df = pd.read_csv(\"experiment_data.csv\")\n",
    "\n",
    "print(\"The Baseline Average was: \", df['baseline'].mean())\n",
    "print(\"The Experimental Average was: \", df['experiment'].mean())\n",
    "\n",
    "bl = df['baseline'].mean()\n",
    "ex = df['experiment'].mean()\n",
    "\n",
    "ex_sd = df['experiment'].std()\n",
    "\n",
    "\n",
    "\n",
    "cohen_d(bl, ex, ex_sd)\n"
   ]
  },
  {
   "cell_type": "code",
   "execution_count": 13,
   "metadata": {},
   "outputs": [
    {
     "name": "stdout",
     "output_type": "stream",
     "text": [
      "The critical value is: -12.735895121086049\n",
      "The p value value is: 3.046638134432578e-29\n",
      "Degrees of Freedom: 262.0\n"
     ]
    }
   ],
   "source": [
    "df = pd.read_csv(\"experiment_data.csv\")\n",
    "\n",
    "df\n",
    "\n",
    "big_test = sm.stats.weightstats.ttest_ind(df['baseline'], \n",
    "                               df['experiment'], \n",
    "                               alternative='two-sided', \n",
    "                               usevar='pooled', value=0)\n",
    "                                                          \n",
    "                                                          \n",
    "print(\"The critical value is:\", big_test[0])\n",
    "print(\"The p value value is:\", big_test[1])                                                          \n",
    "print(\"Degrees of Freedom:\", big_test[2]) \n",
    "\n"
   ]
  },
  {
   "cell_type": "code",
   "execution_count": null,
   "metadata": {},
   "outputs": [],
   "source": [
    "!ls"
   ]
  },
  {
   "cell_type": "code",
   "execution_count": 22,
   "metadata": {},
   "outputs": [
    {
     "data": {
      "text/plain": [
       "<matplotlib.axes._subplots.AxesSubplot at 0x128c2e898>"
      ]
     },
     "execution_count": 22,
     "metadata": {},
     "output_type": "execute_result"
    },
    {
     "data": {
      "image/png": "[encoded data removed]",
      "text/plain": [
       "<Figure size 432x288 with 1 Axes>"
      ]
     },
     "metadata": {
      "needs_background": "light"
     },
     "output_type": "display_data"
    }
   ],
   "source": []
  },
  {
   "cell_type": "markdown",
   "metadata": {},
   "source": [
    "# Your Turn! \n",
    "\n",
    "Find the file `experiment_data_small.csv` in the current working directory and run a t-test on this data.\n",
    "\n",
    "* First report the p value of the test\n",
    "* Second, write a statement on what the p value means\n",
    "* Third, use the function from above to calculate the effect size\n",
    "* Fourth, write a paragraph reccomending if we should adopt the change made by the second AB test we have run!\n",
    "\n",
    "Be prepared to be assigned to a side where you advocate for adopting the new change or not adopting the new change!"
   ]
  },
  {
   "cell_type": "code",
   "execution_count": null,
   "metadata": {},
   "outputs": [],
   "source": [
    "                                                     "
   ]
  },
  {
   "cell_type": "code",
   "execution_count": null,
   "metadata": {},
   "outputs": [],
   "source": []
  }
 ],
 "metadata": {
  "kernelspec": {
   "display_name": "Python 3",
   "language": "python",
   "name": "python3"
  },
  "language_info": {
   "codemirror_mode": {
    "name": "ipython",
    "version": 3
   },
   "file_extension": ".py",
   "mimetype": "text/x-python",
   "name": "python",
   "nbconvert_exporter": "python",
   "pygments_lexer": "ipython3",
   "version": "3.7.3"
  }
 },
 "nbformat": 4,
 "nbformat_minor": 2
}
