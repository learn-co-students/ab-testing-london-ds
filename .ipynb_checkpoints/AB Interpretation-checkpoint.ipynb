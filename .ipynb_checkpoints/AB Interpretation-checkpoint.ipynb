{
 "cells": [
  {
   "cell_type": "markdown",
   "metadata": {},
   "source": [
    "# Interpreting an AB Test"
   ]
  },
  {
   "cell_type": "code",
   "execution_count": null,
   "metadata": {},
   "outputs": [],
   "source": [
    "# estimate sample size via power analysis\n",
    "import statsmodels as sm\n",
    "from statsmodels.stats.power import TTestIndPower\n",
    "from statsmodels.stats.weightstats import ttest_ind\n",
    "\n",
    "\n",
    "\n",
    "\n",
    "def cohen_d(mean_1, mean_2, pooled_sd):\n",
    "    diff = (mean_1 - mean_2)\n",
    "    cohen_d = diff/pooled_sd\n",
    "    return(cohen_d)\n",
    "    \n"
   ]
  },
  {
   "cell_type": "markdown",
   "metadata": {},
   "source": [
    "\n",
    "\n",
    "\n",
    "* Calculate Cohen's D for increasing click rate from 3% to 8%.\n",
    "* Assume the pooled standard deviation to be 14\n",
    "\n",
    "`Mean 1 - Mean 2 / pooled SD`"
   ]
  },
  {
   "cell_type": "code",
   "execution_count": null,
   "metadata": {},
   "outputs": [],
   "source": [
    "# cohen_d(___,____,___)"
   ]
  },
  {
   "cell_type": "markdown",
   "metadata": {},
   "source": [
    "According to the rule of thumb given by Cohen, how big of an effect size is this?\n",
    "\n",
    "\n",
    "Given this effect size, how many samples will we need to collect in order to not make a type II error?"
   ]
  },
  {
   "cell_type": "code",
   "execution_count": null,
   "metadata": {},
   "outputs": [],
   "source": [
    "# Set Parameters \n",
    "\n",
    "effect = None\n",
    "alpha = None\n",
    "power = None\n",
    "\n",
    "# Perform Power Analysis\n",
    "analysis = TTestIndPower()\n",
    "result = analysis.solve_power(effect, power=power, nobs1=None, ratio=1.0, alpha=alpha)\n",
    "print('Sample Size: %.3f' % result)"
   ]
  },
  {
   "cell_type": "code",
   "execution_count": null,
   "metadata": {},
   "outputs": [],
   "source": [
    "import pandas as pd\n",
    "\n",
    "df = pd.read_csv(\"experiment_data.csv\")\n",
    "\n",
    "df"
   ]
  },
  {
   "cell_type": "code",
   "execution_count": null,
   "metadata": {},
   "outputs": [],
   "source": [
    "df = pd.read_csv(\"experiment_data.csv\")\n",
    "\n",
    "df\n",
    "\n",
    "big_test = sm.stats.weightstats.ttest_ind(df['baseline'], \n",
    "                               df['experiment'], \n",
    "                               alternative='two-sided', \n",
    "                               usevar='pooled', value=0)\n",
    "                                                          \n",
    "                                                          \n",
    "print(\"The critical value is:\", big_test[0])\n",
    "print(\"The p value value is:\", big_test[1])                                                          \n",
    "print(\"Degrees of Freedom:\", big_test[2])                                                          "
   ]
  },
  {
   "cell_type": "code",
   "execution_count": null,
   "metadata": {},
   "outputs": [],
   "source": [
    "!ls"
   ]
  },
  {
   "cell_type": "markdown",
   "metadata": {},
   "source": [
    "# Your Turn! \n",
    "\n",
    "Find the file `experiment_data_small.csv` in the current working directory and run a t-test on this data.\n",
    "\n",
    "* First report the p value of the test\n",
    "* Second, write a statement on what the p value means\n",
    "* Third, use the function from above to calculate the effect size\n",
    "* Fourth, write a paragraph reccomending if we should adopt the change made by the second AB test we have run!\n",
    "\n",
    "Be prepared to be assigned to a side where you advocate for adopting the new change or not adopting the new change!"
   ]
  },
  {
   "cell_type": "code",
   "execution_count": null,
   "metadata": {},
   "outputs": [],
   "source": []
  }
 ],
 "metadata": {
  "kernelspec": {
   "display_name": "Python 3",
   "language": "python",
   "name": "python3"
  },
  "language_info": {
   "codemirror_mode": {
    "name": "ipython",
    "version": 3
   },
   "file_extension": ".py",
   "mimetype": "text/x-python",
   "name": "python",
   "nbconvert_exporter": "python",
   "pygments_lexer": "ipython3",
   "version": "3.7.3"
  }
 },
 "nbformat": 4,
 "nbformat_minor": 2
}
